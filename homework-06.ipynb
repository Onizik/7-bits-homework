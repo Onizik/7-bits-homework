{
 "cells": [
  {
   "cell_type": "markdown",
   "metadata": {},
   "source": [
    "# Домашняя работа 6. Классификация.\n",
    "\n",
    "1. Скачайте этот ноутбук к себе.\n",
    "2. Заполните пропущенные ячейки, отвечая на заданные вопросы. Там должен быть код! (если не сказано обратное)\n",
    "3. Сохраните результат в своём гитхаб репозитории.\n",
    "4. Пришлите на почту ml-teachers ссылку на этот файл в вашем репозитории.\n",
    "5. В теме письма указать `ML Homework #6: Name Surname`. Если тема будет неправильная, то задание не будет проверено.\n",
    "\n",
    "**Дедлайн**: 4.12.2017 01:00 OMSK\n",
    "\n",
    "    После дедлайна можно сдать, но вы получите штраф по баллам в рейтинге.\n",
    "\n",
    "**Рассылка решений**: 9.12.2017 17:00 OMSK\n",
    "\n",
    "    После рассылки задания совсем не имеют веса.\n",
    "\n",
    "### Полезная литература\n",
    "\n",
    "- [ODS - классификация](https://habrahabr.ru/company/ods/blog/322534/)\n",
    "- [Коллаборативная фильтрация - рекомендательная система](https://ru.wikipedia.org/wiki/%D0%9A%D0%BE%D0%BB%D0%BB%D0%B0%D0%B1%D0%BE%D1%80%D0%B0%D1%82%D0%B8%D0%B2%D0%BD%D0%B0%D1%8F_%D1%84%D0%B8%D0%BB%D1%8C%D1%82%D1%80%D0%B0%D1%86%D0%B8%D1%8F)\n",
    "- [Метрики расстояний - косинусная, минковского, проклятье размерности ](http://www.machinelearning.ru/wiki/images/9/9a/Sem1_knn.pdf)\n",
    "- [Offtop: метрики качества рекомендаьельных систем](https://habrahabr.ru/company/dca/blog/281066/)\n",
    "- [Байесовский классификатор](http://www.machinelearning.ru/wiki/index.php?title=%D0%91%D0%B0%D0%B9%D0%B5%D1%81%D0%BE%D0%B2%D1%81%D0%BA%D0%B8%D0%B9_%D0%BA%D0%BB%D0%B0%D1%81%D1%81%D0%B8%D1%84%D0%B8%D0%BA%D0%B0%D1%82%D0%BE%D1%80)\n",
    "- [Интересная статья про спам/не спам](https://habrahabr.ru/post/252265/)\n",
    "\n",
    "Если вам понравилась задача распознавания текстов, то вот подборочка:\n",
    "\n",
    "- [библиотека Gensim](https://radimrehurek.com/gensim/)\n",
    "- [библиотека nltk](http://www.nltk.org/)\n",
    "- [Лекция про word2vec 🔥](https://www.youtube.com/watch?v=oBb9aFmp0Hs)\n",
    "- [Лекция Векторные представления слов и документов 🔥](https://www.youtube.com/watch?v=hiDBnEyoZS4)"
   ]
  },
  {
   "cell_type": "markdown",
   "metadata": {},
   "source": [
    "В этой практике мы будем использовать алгоритмы k ближайших соседей и наивный байес для задач классификации и не только. "
   ]
  },
  {
   "cell_type": "markdown",
   "metadata": {},
   "source": [
    "## kNN - ближайшие соседи\n",
    "\n",
    "Мы уже видели с вами на практиках и лекциях как применять алгоритм ближайших соседей. Мы даже видели с вами на примере классификации sms-спама, что этот метрический алгоритм не всегда справляется с многомерными данными. Поэтому в домашнем задании мы с вами сконцентриуемся на другой задаче, котоую можно решить этим алгоритмом: вы построите рекомендательную систему.\n",
    "\n",
    "### Рекомендательная система\n",
    "\n",
    "Будем использовать известный нам [датасет с оценками фильмов](http://www.cs.umn.edu/GroupLens). Только в этот раз мы не будем кластеризовывать жанры, а будем рекомендовать похожие фильмы, основываясь на оценках других пользователей. То есть мы будем по факту предсказывать предпочтение нового пользователя на основе других.\n",
    "\n",
    "Для рекомендательной системы в датасете в объектами будут пользователи, а признаками - оценки фильма данным пользователем.\n",
    "\n",
    "![](https://i.imgur.com/hn3xjZl.png)\n",
    "\n",
    "Мы будем использовать метрический алгоритм для поиска ближайших соседей, тем самым рекомендовать фильмы близкие к данному."
   ]
  },
  {
   "cell_type": "code",
   "execution_count": 2,
   "metadata": {
    "collapsed": true
   },
   "outputs": [],
   "source": [
    "import pandas as pd\n",
    "import numpy as np\n",
    "from matplotlib import pyplot as plt\n",
    "import seaborn as sns\n",
    "%matplotlib inline"
   ]
  },
  {
   "cell_type": "code",
   "execution_count": 3,
   "metadata": {},
   "outputs": [
    {
     "name": "stdout",
     "output_type": "stream",
     "text": [
      "(9125, 2)\n",
      "(100004, 4)\n"
     ]
    }
   ],
   "source": [
    "movies = pd.read_csv('../../data/imdb_movies.csv.gz', index_col='movieId')\n",
    "ratings = pd.read_csv('../../data/imdb_ratings.csv.gz')\n",
    "\n",
    "print(movies.shape)\n",
    "print(ratings.shape)"
   ]
  },
  {
   "cell_type": "code",
   "execution_count": 4,
   "metadata": {},
   "outputs": [
    {
     "data": {
      "text/html": [
       "<div>\n",
       "<style>\n",
       "    .dataframe thead tr:only-child th {\n",
       "        text-align: right;\n",
       "    }\n",
       "\n",
       "    .dataframe thead th {\n",
       "        text-align: left;\n",
       "    }\n",
       "\n",
       "    .dataframe tbody tr th {\n",
       "        vertical-align: top;\n",
       "    }\n",
       "</style>\n",
       "<table border=\"1\" class=\"dataframe\">\n",
       "  <thead>\n",
       "    <tr style=\"text-align: right;\">\n",
       "      <th></th>\n",
       "      <th>title</th>\n",
       "      <th>genres</th>\n",
       "    </tr>\n",
       "    <tr>\n",
       "      <th>movieId</th>\n",
       "      <th></th>\n",
       "      <th></th>\n",
       "    </tr>\n",
       "  </thead>\n",
       "  <tbody>\n",
       "    <tr>\n",
       "      <th>1</th>\n",
       "      <td>Toy Story (1995)</td>\n",
       "      <td>Adventure|Animation|Children|Comedy|Fantasy</td>\n",
       "    </tr>\n",
       "    <tr>\n",
       "      <th>2</th>\n",
       "      <td>Jumanji (1995)</td>\n",
       "      <td>Adventure|Children|Fantasy</td>\n",
       "    </tr>\n",
       "    <tr>\n",
       "      <th>3</th>\n",
       "      <td>Grumpier Old Men (1995)</td>\n",
       "      <td>Comedy|Romance</td>\n",
       "    </tr>\n",
       "    <tr>\n",
       "      <th>4</th>\n",
       "      <td>Waiting to Exhale (1995)</td>\n",
       "      <td>Comedy|Drama|Romance</td>\n",
       "    </tr>\n",
       "    <tr>\n",
       "      <th>5</th>\n",
       "      <td>Father of the Bride Part II (1995)</td>\n",
       "      <td>Comedy</td>\n",
       "    </tr>\n",
       "  </tbody>\n",
       "</table>\n",
       "</div>"
      ],
      "text/plain": [
       "                                      title  \\\n",
       "movieId                                       \n",
       "1                          Toy Story (1995)   \n",
       "2                            Jumanji (1995)   \n",
       "3                   Grumpier Old Men (1995)   \n",
       "4                  Waiting to Exhale (1995)   \n",
       "5        Father of the Bride Part II (1995)   \n",
       "\n",
       "                                              genres  \n",
       "movieId                                               \n",
       "1        Adventure|Animation|Children|Comedy|Fantasy  \n",
       "2                         Adventure|Children|Fantasy  \n",
       "3                                     Comedy|Romance  \n",
       "4                               Comedy|Drama|Romance  \n",
       "5                                             Comedy  "
      ]
     },
     "execution_count": 4,
     "metadata": {},
     "output_type": "execute_result"
    }
   ],
   "source": [
    "movies.head()"
   ]
  },
  {
   "cell_type": "code",
   "execution_count": 5,
   "metadata": {},
   "outputs": [
    {
     "data": {
      "text/html": [
       "<div>\n",
       "<style>\n",
       "    .dataframe thead tr:only-child th {\n",
       "        text-align: right;\n",
       "    }\n",
       "\n",
       "    .dataframe thead th {\n",
       "        text-align: left;\n",
       "    }\n",
       "\n",
       "    .dataframe tbody tr th {\n",
       "        vertical-align: top;\n",
       "    }\n",
       "</style>\n",
       "<table border=\"1\" class=\"dataframe\">\n",
       "  <thead>\n",
       "    <tr style=\"text-align: right;\">\n",
       "      <th></th>\n",
       "      <th>userId</th>\n",
       "      <th>movieId</th>\n",
       "      <th>rating</th>\n",
       "      <th>timestamp</th>\n",
       "    </tr>\n",
       "  </thead>\n",
       "  <tbody>\n",
       "    <tr>\n",
       "      <th>0</th>\n",
       "      <td>1</td>\n",
       "      <td>31</td>\n",
       "      <td>2.5</td>\n",
       "      <td>1260759144</td>\n",
       "    </tr>\n",
       "    <tr>\n",
       "      <th>1</th>\n",
       "      <td>1</td>\n",
       "      <td>1029</td>\n",
       "      <td>3.0</td>\n",
       "      <td>1260759179</td>\n",
       "    </tr>\n",
       "    <tr>\n",
       "      <th>2</th>\n",
       "      <td>1</td>\n",
       "      <td>1061</td>\n",
       "      <td>3.0</td>\n",
       "      <td>1260759182</td>\n",
       "    </tr>\n",
       "    <tr>\n",
       "      <th>3</th>\n",
       "      <td>1</td>\n",
       "      <td>1129</td>\n",
       "      <td>2.0</td>\n",
       "      <td>1260759185</td>\n",
       "    </tr>\n",
       "    <tr>\n",
       "      <th>4</th>\n",
       "      <td>1</td>\n",
       "      <td>1172</td>\n",
       "      <td>4.0</td>\n",
       "      <td>1260759205</td>\n",
       "    </tr>\n",
       "  </tbody>\n",
       "</table>\n",
       "</div>"
      ],
      "text/plain": [
       "   userId  movieId  rating   timestamp\n",
       "0       1       31     2.5  1260759144\n",
       "1       1     1029     3.0  1260759179\n",
       "2       1     1061     3.0  1260759182\n",
       "3       1     1129     2.0  1260759185\n",
       "4       1     1172     4.0  1260759205"
      ]
     },
     "execution_count": 5,
     "metadata": {},
     "output_type": "execute_result"
    }
   ],
   "source": [
    "ratings.head()"
   ]
  },
  {
   "cell_type": "markdown",
   "metadata": {},
   "source": [
    "### 1.1 Поиск популярных фильмов (3 балла)\n",
    "\n",
    "Среди всех фильмов есть не популярные, для которых выставлена 1-2 оценки. Такого количества данных не достаточно, поэтому нужно срезать много фильмов с маленьким числом отзывов.\n",
    "\n",
    "Посчтитайте количество оценок для каждого фильма."
   ]
  },
  {
   "cell_type": "code",
   "execution_count": 6,
   "metadata": {},
   "outputs": [
    {
     "data": {
      "text/plain": [
       "(341, 4)"
      ]
     },
     "execution_count": 6,
     "metadata": {},
     "output_type": "execute_result"
    }
   ],
   "source": [
    "ratings[ratings.movieId == 356].shape"
   ]
  },
  {
   "cell_type": "markdown",
   "metadata": {},
   "source": [
    "Выведите сводную статистику по количеству оценок фильмов. (общее число фильмов, среднее количество оценок, дисперсию, квантили)"
   ]
  },
  {
   "cell_type": "code",
   "execution_count": 7,
   "metadata": {},
   "outputs": [
    {
     "data": {
      "text/plain": [
       "356       341\n",
       "296       324\n",
       "318       311\n",
       "593       304\n",
       "260       291\n",
       "480       274\n",
       "2571      259\n",
       "1         247\n",
       "527       244\n",
       "589       237\n",
       "1196      234\n",
       "110       228\n",
       "1270      226\n",
       "608       224\n",
       "2858      220\n",
       "1198      220\n",
       "780       218\n",
       "1210      217\n",
       "588       215\n",
       "457       213\n",
       "2959      202\n",
       "590       202\n",
       "50        201\n",
       "47        201\n",
       "4993      200\n",
       "858       200\n",
       "150       200\n",
       "364       200\n",
       "380       198\n",
       "32        196\n",
       "         ... \n",
       "98160       1\n",
       "6109        1\n",
       "120805      1\n",
       "131168      1\n",
       "73860       1\n",
       "60674       1\n",
       "104595      1\n",
       "133281      1\n",
       "155820      1\n",
       "26797       1\n",
       "47287       1\n",
       "8420        1\n",
       "61250       1\n",
       "3870        1\n",
       "5917        1\n",
       "1759        1\n",
       "26323       1\n",
       "32464       1\n",
       "65216       1\n",
       "65088       1\n",
       "73276       1\n",
       "7708        1\n",
       "69118       1\n",
       "110058      1\n",
       "140763      1\n",
       "48520       1\n",
       "111913      1\n",
       "1311        1\n",
       "27922       1\n",
       "2049        1\n",
       "Name: movieId, Length: 9066, dtype: int64"
      ]
     },
     "execution_count": 7,
     "metadata": {},
     "output_type": "execute_result"
    }
   ],
   "source": [
    "ratings.movieId.value_counts()"
   ]
  },
  {
   "cell_type": "markdown",
   "metadata": {},
   "source": [
    "Как мы видим `75%` квантиль показывет, что `75%` фильмов имело очень мало оценок. Нам столько будет недостаточно. Посчтитайте квантили в диапазоне от `75%` до `100%` с шагом в `1%`. Выберите тот квантиль, при котором количество оценок равно 20. Напишите какой это квантиль. Напишите сколько всего фильмов останется, если отбросить все фильмы у которых рейтинг меньше этого квантиля."
   ]
  },
  {
   "cell_type": "code",
   "execution_count": 8,
   "metadata": {},
   "outputs": [
    {
     "data": {
      "text/plain": [
       "count    9066.000000\n",
       "mean       11.030664\n",
       "std        24.050800\n",
       "min         1.000000\n",
       "25%         1.000000\n",
       "50%         3.000000\n",
       "75%         9.000000\n",
       "max       341.000000\n",
       "Name: movieId, dtype: float64"
      ]
     },
     "execution_count": 8,
     "metadata": {},
     "output_type": "execute_result"
    }
   ],
   "source": [
    "ratings.movieId.value_counts().describe()"
   ]
  },
  {
   "cell_type": "code",
   "execution_count": 10,
   "metadata": {},
   "outputs": [
    {
     "name": "stdout",
     "output_type": "stream",
     "text": [
      "count    9066.000000\n",
      "mean       11.030664\n",
      "std        24.050800\n",
      "min         1.000000\n",
      "50%         3.000000\n",
      "75%         9.000000\n",
      "76%        10.000000\n",
      "77%        10.000000\n",
      "78%        11.000000\n",
      "79%        12.000000\n",
      "80%        13.000000\n",
      "81%        14.000000\n",
      "82%        15.000000\n",
      "83%        16.000000\n",
      "84%        17.000000\n",
      "85%        19.000000\n",
      "86%        20.000000\n",
      "87%        22.000000\n",
      "88%        23.000000\n",
      "89%        25.000000\n",
      "90%        28.000000\n",
      "91%        31.000000\n",
      "92%        34.000000\n",
      "93%        38.000000\n",
      "94%        44.000000\n",
      "95%        49.000000\n",
      "96%        58.000000\n",
      "97%        69.050000\n",
      "98%        89.000000\n",
      "99%       123.000000\n",
      "100%      341.000000\n",
      "max       341.000000\n",
      "Name: movieId, dtype: float64\n"
     ]
    }
   ],
   "source": [
    "print(ratings.movieId.value_counts().describe(percentiles=[i / 100 for i in range(75, 101)]))"
   ]
  },
  {
   "cell_type": "code",
   "execution_count": 11,
   "metadata": {},
   "outputs": [
    {
     "name": "stdout",
     "output_type": "stream",
     "text": [
      "1303\n"
     ]
    }
   ],
   "source": [
    "percentiles=[.86]\n",
    "\n",
    "for perc in percentiles:\n",
    "    print(sum(ratings.movieId.value_counts() >= ratings.movieId.value_counts().quantile(.86)))"
   ]
  },
  {
   "cell_type": "markdown",
   "metadata": {},
   "source": [
    "### 1.2 Соединяем таблицы (1 балл)\n",
    "\n",
    "Будет немного не удобно искать фильмы по их идентификаторам, нам нужны названия. Поэтому соедините две таблицы `ratings` и `movies` по `movieId` и отфильтруйте отзывы на редкие фильмы, которые мы нашли в предыдущем шаге. Выведите первые 5 элементов полученного датасета."
   ]
  },
  {
   "cell_type": "code",
   "execution_count": 12,
   "metadata": {},
   "outputs": [
    {
     "data": {
      "text/html": [
       "<div>\n",
       "<style>\n",
       "    .dataframe thead tr:only-child th {\n",
       "        text-align: right;\n",
       "    }\n",
       "\n",
       "    .dataframe thead th {\n",
       "        text-align: left;\n",
       "    }\n",
       "\n",
       "    .dataframe tbody tr th {\n",
       "        vertical-align: top;\n",
       "    }\n",
       "</style>\n",
       "<table border=\"1\" class=\"dataframe\">\n",
       "  <thead>\n",
       "    <tr style=\"text-align: right;\">\n",
       "      <th></th>\n",
       "      <th>userId</th>\n",
       "      <th>movieId</th>\n",
       "      <th>rating</th>\n",
       "      <th>timestamp</th>\n",
       "      <th>title</th>\n",
       "      <th>genres</th>\n",
       "    </tr>\n",
       "  </thead>\n",
       "  <tbody>\n",
       "    <tr>\n",
       "      <th>356</th>\n",
       "      <td>5.0</td>\n",
       "      <td>231</td>\n",
       "      <td>3.5</td>\n",
       "      <td>1.163374e+09</td>\n",
       "      <td>Dumb &amp; Dumber (Dumb and Dumber) (1994)</td>\n",
       "      <td>Adventure|Comedy</td>\n",
       "    </tr>\n",
       "    <tr>\n",
       "      <th>296</th>\n",
       "      <td>4.0</td>\n",
       "      <td>2263</td>\n",
       "      <td>3.0</td>\n",
       "      <td>9.498963e+08</td>\n",
       "      <td>Seventh Sign, The (1988)</td>\n",
       "      <td>Drama|Fantasy|Thriller</td>\n",
       "    </tr>\n",
       "    <tr>\n",
       "      <th>318</th>\n",
       "      <td>4.0</td>\n",
       "      <td>2791</td>\n",
       "      <td>5.0</td>\n",
       "      <td>9.498115e+08</td>\n",
       "      <td>Airplane! (1980)</td>\n",
       "      <td>Comedy</td>\n",
       "    </tr>\n",
       "    <tr>\n",
       "      <th>593</th>\n",
       "      <td>8.0</td>\n",
       "      <td>457</td>\n",
       "      <td>4.5</td>\n",
       "      <td>1.154400e+09</td>\n",
       "      <td>Fugitive, The (1993)</td>\n",
       "      <td>Thriller</td>\n",
       "    </tr>\n",
       "    <tr>\n",
       "      <th>260</th>\n",
       "      <td>4.0</td>\n",
       "      <td>2005</td>\n",
       "      <td>5.0</td>\n",
       "      <td>9.498961e+08</td>\n",
       "      <td>Goonies, The (1985)</td>\n",
       "      <td>Action|Adventure|Children|Comedy|Fantasy</td>\n",
       "    </tr>\n",
       "  </tbody>\n",
       "</table>\n",
       "</div>"
      ],
      "text/plain": [
       "     userId movieId  rating     timestamp  \\\n",
       "356     5.0     231     3.5  1.163374e+09   \n",
       "296     4.0    2263     3.0  9.498963e+08   \n",
       "318     4.0    2791     5.0  9.498115e+08   \n",
       "593     8.0     457     4.5  1.154400e+09   \n",
       "260     4.0    2005     5.0  9.498961e+08   \n",
       "\n",
       "                                      title  \\\n",
       "356  Dumb & Dumber (Dumb and Dumber) (1994)   \n",
       "296                Seventh Sign, The (1988)   \n",
       "318                        Airplane! (1980)   \n",
       "593                    Fugitive, The (1993)   \n",
       "260                     Goonies, The (1985)   \n",
       "\n",
       "                                       genres  \n",
       "356                          Adventure|Comedy  \n",
       "296                    Drama|Fantasy|Thriller  \n",
       "318                                    Comedy  \n",
       "593                                  Thriller  \n",
       "260  Action|Adventure|Children|Comedy|Fantasy  "
      ]
     },
     "execution_count": 12,
     "metadata": {},
     "output_type": "execute_result"
    }
   ],
   "source": [
    "df = ratings.copy()\n",
    "df = df.loc[((ratings.movieId.value_counts() >= ratings.movieId.value_counts().quantile(.86)) == True).index]\n",
    "\n",
    "dff = ratings.copy()\n",
    "\n",
    "dfff = df.copy()\n",
    "df = df.join(movies, on='movieId')\n",
    "\n",
    "df.head()"
   ]
  },
  {
   "cell_type": "markdown",
   "metadata": {},
   "source": [
    "### 1.3 Матрица Фильмы-Пользователи\n",
    "\n",
    "В нашем случае мы будем искать похожие фильмы, поэтому сделайте из датасета оценок матрицу, где в строках фильмы, в колонках пользователи, а в ячейках оценки. Пропущенные значение, то есть отсутсвие оценки, заполните 0.\n",
    "\n",
    "Для увеличения скорости выполнения алгоритма ближайших соседей примените функцию [`scipy.sparse.csc_matrix`](https://docs.scipy.org/doc/scipy/reference/generated/scipy.sparse.csr_matrix.html),  которая создаст плотное представление нашей разреженой матрицы."
   ]
  },
  {
   "cell_type": "code",
   "execution_count": 13,
   "metadata": {
    "collapsed": true
   },
   "outputs": [],
   "source": [
    "import scipy as sp\n",
    "from scipy.sparse import csc_matrix\n",
    "\n",
    "matr = df.pivot_table('rating', index='movieId', columns='userId').fillna(0)\n",
    "\n",
    "matr_fit = csc_matrix(matr.as_matrix())"
   ]
  },
  {
   "cell_type": "markdown",
   "metadata": {},
   "source": [
    "### 1.4 Тренировка модели рекомендаций \n",
    "\n",
    "Так как по сути у нас нет каких-то меток классов, мы будем использовать алгоритма без учителя [`sklearn.neighbors.NearestNeighbors`](http://scikit-learn.org/stable/modules/generated/sklearn.neighbors.NearestNeighbors.html). Научите его по данным нашей матрицы пользователей-фильмов и напишите **функцию**, принимающую на вход название фильма и возвращающую список из 6 рекомендованых фильмов, начиная от более похожего.\n",
    "\n",
    "Для определения \"похожести\" двух фильмов мы будем использовать косинусную меру, вместо евклидова или минковского:\n",
    "\n",
    "$$\\LARGE cos(\\overrightarrow{x},\\overrightarrow{y}) = \\frac{\\overrightarrow{x} \\cdot \\overrightarrow{y}}{||\\overrightarrow{x}|| \\times ||\\overrightarrow{y}||}$$"
   ]
  },
  {
   "cell_type": "code",
   "execution_count": 16,
   "metadata": {},
   "outputs": [
    {
     "data": {
      "text/plain": [
       "NearestNeighbors(algorithm='brute', leaf_size=30, metric='cosine',\n",
       "         metric_params=None, n_jobs=3, n_neighbors=10, p=2, radius=1.0)"
      ]
     },
     "execution_count": 16,
     "metadata": {},
     "output_type": "execute_result"
    }
   ],
   "source": [
    "from sklearn.neighbors import NearestNeighbors as NN\n",
    "model = NN(n_neighbors=10, n_jobs=3, algorithm='brute', metric='cosine')\n",
    "model.fit(matr_fit)"
   ]
  },
  {
   "cell_type": "code",
   "execution_count": 20,
   "metadata": {},
   "outputs": [],
   "source": [
    "def similar(name='Pulp Fiction (1994)', n=6):\n",
    "    movieId = movies[movies['title'] == name].index[0]\n",
    "    #print(movieId)\n",
    "    coords = matr.loc[movieId].values.reshape(1, -1)\n",
    "    #print(len(coords))\n",
    "    similar_indices = model.kneighbors(coords, n_neighbors=n, return_distance=False)[0]\n",
    "    #print(model.kneighbors(coords, n_neighbors=n, return_distance=False))\n",
    "    similar_movieIds = matr.index[similar_indices]\n",
    "    return df[df['movieId'].isin(similar_movieIds)]['title'].unique().tolist()#values.tolist()\n",
    "    pass"
   ]
  },
  {
   "cell_type": "markdown",
   "metadata": {},
   "source": [
    "Выведите рекомендации для фильмов:\n",
    "- `Pulp Fiction (1994)`\n",
    "- `Star Wars: Episode V - The Empire Strikes Back (1980)`\n",
    "- `Lord of the Rings: The Two Towers, The (2002)`"
   ]
  },
  {
   "cell_type": "code",
   "execution_count": 21,
   "metadata": {},
   "outputs": [
    {
     "data": {
      "text/plain": [
       "['Amadeus (1984)',\n",
       " 'Pulp Fiction (1994)',\n",
       " \"Schindler's List (1993)\",\n",
       " 'Ed Wood (1994)',\n",
       " 'Silence of the Lambs, The (1991)',\n",
       " 'Untouchables, The (1987)']"
      ]
     },
     "execution_count": 21,
     "metadata": {},
     "output_type": "execute_result"
    }
   ],
   "source": [
    "similar('Pulp Fiction (1994)')"
   ]
  },
  {
   "cell_type": "code",
   "execution_count": 22,
   "metadata": {},
   "outputs": [
    {
     "data": {
      "text/plain": [
       "['Star Wars: Episode V - The Empire Strikes Back (1980)',\n",
       " 'Raiders of the Lost Ark (Indiana Jones and the Raiders of the Lost Ark) (1981)',\n",
       " 'Jurassic Park (1993)',\n",
       " 'Star Wars: Episode VI - Return of the Jedi (1983)',\n",
       " 'Indiana Jones and the Last Crusade (1989)',\n",
       " 'Terminator, The (1984)']"
      ]
     },
     "execution_count": 22,
     "metadata": {},
     "output_type": "execute_result"
    }
   ],
   "source": [
    "similar('Star Wars: Episode V - The Empire Strikes Back (1980)')"
   ]
  },
  {
   "cell_type": "code",
   "execution_count": 23,
   "metadata": {},
   "outputs": [
    {
     "data": {
      "text/plain": [
       "['Sin City (2005)',\n",
       " 'Unbreakable (2000)',\n",
       " 'Lord of the Rings: The Two Towers, The (2002)',\n",
       " 'Batman Begins (2005)',\n",
       " 'Run Lola Run (Lola rennt) (1998)',\n",
       " 'Inception (2010)']"
      ]
     },
     "execution_count": 23,
     "metadata": {},
     "output_type": "execute_result"
    }
   ],
   "source": [
    "similar('Lord of the Rings: The Two Towers, The (2002)')"
   ]
  },
  {
   "cell_type": "markdown",
   "metadata": {},
   "source": [
    "### 1.5 Как посчитать качество рекомендации?\n",
    "\n",
    "Как посчитать качество нашей классификации? У нас нет учителя, нет отложенной выборки. Мы просто посчитали все рейтинги и на основе них сделали предположения о похожести товаров. \n",
    "\n",
    "А как вы думаете можно проверить качество нашей рекомендательной системы? Напишите развернутый ответ своими словами."
   ]
  },
  {
   "cell_type": "markdown",
   "metadata": {},
   "source": [
    "Ответ: Для проверки качества системы можно узнать мнение пользователей, из которого получить данные о том, насколько хорошо сработала рекомендация. "
   ]
  },
  {
   "cell_type": "markdown",
   "metadata": {},
   "source": [
    "## Наивный байесовский классификатор\n",
    "\n",
    "На практике мы использовали его для детекции спам/не спам. В этот раз вы будете классифицировать [новостные тексты](http://scikit-learn.org/stable/datasets/twenty_newsgroups.html). Попробуете разные методы  генерации признаков из текстов."
   ]
  },
  {
   "cell_type": "code",
   "execution_count": 25,
   "metadata": {},
   "outputs": [
    {
     "data": {
      "text/plain": [
       "['alt.atheism',\n",
       " 'comp.graphics',\n",
       " 'comp.os.ms-windows.misc',\n",
       " 'comp.sys.ibm.pc.hardware',\n",
       " 'comp.sys.mac.hardware',\n",
       " 'comp.windows.x',\n",
       " 'misc.forsale',\n",
       " 'rec.autos',\n",
       " 'rec.motorcycles',\n",
       " 'rec.sport.baseball',\n",
       " 'rec.sport.hockey',\n",
       " 'sci.crypt',\n",
       " 'sci.electronics',\n",
       " 'sci.med',\n",
       " 'sci.space',\n",
       " 'soc.religion.christian',\n",
       " 'talk.politics.guns',\n",
       " 'talk.politics.mideast',\n",
       " 'talk.politics.misc',\n",
       " 'talk.religion.misc']"
      ]
     },
     "execution_count": 25,
     "metadata": {},
     "output_type": "execute_result"
    }
   ],
   "source": [
    "from sklearn.datasets import fetch_20newsgroups\n",
    "newsgroups_train = fetch_20newsgroups(subset='train', remove=('headers', 'footers', 'quotes'))\n",
    "newsgroups_train.target_names"
   ]
  },
  {
   "cell_type": "markdown",
   "metadata": {},
   "source": [
    "### 2.1 Загрузка данных (2 балла)\n",
    "\n",
    "Мы будем использовать только 4 класса текстов: `'alt.atheism', 'sci.space', 'talk.religion.misc', 'comp.graphics'`.\n",
    "\n",
    "Загрузите тренировочную и тестовую части датасета для этих категорий."
   ]
  },
  {
   "cell_type": "code",
   "execution_count": 26,
   "metadata": {
    "collapsed": true
   },
   "outputs": [],
   "source": [
    "categories = ['alt.atheism', 'sci.space', 'talk.religion.misc', 'comp.graphics']\n",
    "train = fetch_20newsgroups(subset='train', remove=('headers', 'footers', 'quotes'), categories=categories, shuffle=True, random_state=42)\n",
    "test = fetch_20newsgroups(subset='test', remove=('headers', 'footers', 'quotes'), categories=categories, shuffle=True, random_state=42)\n",
    "ytest = test.target.copy()\n",
    "ytrain = train.target.copy()"
   ]
  },
  {
   "cell_type": "markdown",
   "metadata": {},
   "source": [
    "Выведите по 1 тексту для каждой из категории."
   ]
  },
  {
   "cell_type": "code",
   "execution_count": 27,
   "metadata": {
    "collapsed": true,
    "scrolled": true
   },
   "outputs": [],
   "source": [
    "categories = train.target_names"
   ]
  },
  {
   "cell_type": "code",
   "execution_count": 28,
   "metadata": {},
   "outputs": [
    {
     "name": "stdout",
     "output_type": "stream",
     "text": [
      "alt.atheism\n",
      "I have a request for those who would like to see Charley Wingate\n",
      "respond to the \"Charley Challenges\" (and judging from my e-mail, there\n",
      "appear to be quite a few of you.)  \n",
      "\n",
      "It is clear that Mr. Wingate intends to continue to post tangential or\n",
      "unrelated articles while ingoring the Challenges themselves.  Between\n",
      "the last two re-postings of the Challenges, I noted perhaps a dozen or\n",
      "more posts by Mr. Wingate, none of which answered a single Challenge.  \n",
      "\n",
      "It seems unmistakable to me that Mr. Wingate hopes that the questions\n",
      "will just go away, and he is doing his level best to change the\n",
      "subject.  Given that this seems a rather common net.theist tactic, I\n",
      "would like to suggest that we impress upon him our desire for answers,\n",
      "in the following manner:\n",
      "\n",
      "1. Ignore any future articles by Mr. Wingate that do not address the\n",
      "Challenges, until he answers them or explictly announces that he\n",
      "refuses to do so.\n",
      "\n",
      "--or--\n",
      "\n",
      "2. If you must respond to one of his articles, include within it\n",
      "something similar to the following:\n",
      "\n",
      "    \"Please answer the questions posed to you in the Charley Challenges.\"\n",
      "\n",
      "Really, I'm not looking to humiliate anyone here, I just want some\n",
      "honest answers.  You wouldn't think that honesty would be too much to\n",
      "ask from a devout Christian, would you?  \n",
      "\n",
      "Nevermind, that was a rhetorical question.\n",
      "##############################################################################################################################\n",
      "comp.graphics\n",
      "Hi,\n",
      "\n",
      "I've noticed that if you only save a model (with all your mapping planes\n",
      "positioned carefully) to a .3DS file that when you reload it after restarting\n",
      "3DS, they are given a default position and orientation.  But if you save\n",
      "to a .PRJ file their positions/orientation are preserved.  Does anyone\n",
      "know why this information is not stored in the .3DS file?  Nothing is\n",
      "explicitly said in the manual about saving texture rules in the .PRJ file. \n",
      "I'd like to be able to read the texture rule information, does anyone have \n",
      "the format for the .PRJ file?\n",
      "\n",
      "Is the .CEL file format available from somewhere?\n",
      "\n",
      "Rych\n",
      "##############################################################################################################################\n",
      "sci.space\n",
      "\n",
      " >In article <1993Apr19.020359.26996@sq.sq.com>, msb@sq.sq.com (Mark Brader) \n",
      "\n",
      "MB>                                                             So the\n",
      "MB> 1970 figure seems unlikely to actually be anything but a perijove.\n",
      "\n",
      "JG>Sorry, _perijoves_...I'm not used to talking this language.\n",
      "\n",
      "Couldn't we just say periapsis or apoapsis?\n",
      "\n",
      " \n",
      "##############################################################################################################################\n",
      "talk.religion.misc\n",
      "\n",
      "\n",
      "Seems to be, barring evidence to the contrary, that Koresh was simply\n",
      "another deranged fanatic who thought it neccessary to take a whole bunch of\n",
      "folks with him, children and all, to satisfy his delusional mania. Jim\n",
      "Jones, circa 1993.\n",
      "\n",
      "\n",
      "Nope - fruitcakes like Koresh have been demonstrating such evil corruption\n",
      "for centuries.\n",
      "##############################################################################################################################\n"
     ]
    }
   ],
   "source": [
    "tmp = np.array(train.target)\n",
    "tmp1 = np.array(train.target_names)\n",
    "tmp2 = pd.DataFrame(data=[train.data])\n",
    "for x in np.unique(train.target):\n",
    "    tmp3 = tmp2.loc[0][tmp == x]\n",
    "    print(train.target_names[x])\n",
    "    print(tmp3.loc[tmp3.index[0]])\n",
    "    print(\"###\"*42)"
   ]
  },
  {
   "cell_type": "markdown",
   "metadata": {},
   "source": [
    "### 2.2 Мешок слов\n",
    "\n",
    "Начнем с самого простого способа извлечения признаков из текстов: обычный подсчет количества употреблений слов в тексте.\n",
    "\n",
    "Для этого используем [sklearn.feature_extraction.text.CountVectorizer](http://scikit-learn.org/stable/modules/generated/sklearn.feature_extraction.text.CountVectorizer.html). Настройте его так, чтобы он использовал англиские стоп слова.\n",
    "\n",
    "Проведите трансформаци текстов из обоих датасетов и выведите размер полученного словаря. (1 векторайзер для тестового и тренировочного датасета! У вас должны получиться матрицы с одинаковыми признаками-словами)"
   ]
  },
  {
   "cell_type": "code",
   "execution_count": 42,
   "metadata": {},
   "outputs": [
    {
     "data": {
      "text/plain": [
       "(1353, 26576)"
      ]
     },
     "execution_count": 42,
     "metadata": {},
     "output_type": "execute_result"
    }
   ],
   "source": [
    "from sklearn.feature_extraction.text import CountVectorizer\n",
    "vec = CountVectorizer(stop_words='english')\n",
    "train1 = vec.fit_transform(train.data)\n",
    "test1 = vec.transform(test.data)\n",
    "len(vec.vocabulary_)\n",
    "test1.shape"
   ]
  },
  {
   "cell_type": "markdown",
   "metadata": {},
   "source": [
    "Будем использовать классифиактор для мультиклассифкации [sklearn.naive_bayes.MultinomialNB]().\n",
    "\n",
    "- Проведите кроссвалидацию на 5 фолдах для метрики `accuracy`.\n",
    "- обучите на тренировочных данных, \n",
    "- нарисуйте красивую confusion матрицу, (с именами классов, а не индексами по осям)\n",
    "- выведите отчет классификации для тестовой выборки (с именами классов, а не индексами)"
   ]
  },
  {
   "cell_type": "code",
   "execution_count": 30,
   "metadata": {
    "collapsed": true
   },
   "outputs": [],
   "source": [
    "from sklearn.model_selection import cross_val_score\n",
    "from sklearn.model_selection import KFold\n",
    "from sklearn.naive_bayes import MultinomialNB\n",
    "from sklearn.metrics import confusion_matrix\n",
    "kf = KFold(n_splits=5, shuffle=True, random_state=3)"
   ]
  },
  {
   "cell_type": "code",
   "execution_count": 39,
   "metadata": {},
   "outputs": [
    {
     "name": "stdout",
     "output_type": "stream",
     "text": [
      "Wall time: 1.1 s\n",
      "0.837760375691\n"
     ]
    },
    {
     "data": {
      "text/plain": [
       "<matplotlib.axes._subplots.AxesSubplot at 0x1eb67d9c2b0>"
      ]
     },
     "execution_count": 39,
     "metadata": {},
     "output_type": "execute_result"
    },
    {
     "data": {
      "image/png": "[encoded data removed]",
      "text/plain": [
       "<matplotlib.figure.Figure at 0x1eb6728f9e8>"
      ]
     },
     "metadata": {},
     "output_type": "display_data"
    }
   ],
   "source": [
    "clf = MultinomialNB(alpha=.1)\n",
    "%time mean_score_clf1 = cross_val_score(clf1, train1, y_train, cv=kf, n_jobs=3, scoring='accuracy').mean()\n",
    "print(mean_score_clf1)\n",
    "clf = MultinomialNB(alpha=.1)\n",
    "clf.fit(train1, train.target)\n",
    "y_pred = clf1.predict(test1)\n",
    "cnf_matrix1 = confusion_matrix(ytest, y_pred)\n",
    "from sklearn.metrics import accuracy_score\n",
    "accuracy_score(ytest, y_pred)\n",
    "sns.heatmap(data=cnf_matrix1, xticklabels=categories, yticklabels=categories, square=True, annot=True, fmt='.3g')"
   ]
  },
  {
   "cell_type": "code",
   "execution_count": 40,
   "metadata": {},
   "outputs": [
    {
     "name": "stdout",
     "output_type": "stream",
     "text": [
      "                    precision    recall  f1-score   support\n",
      "\n",
      "       alt.atheism       0.67      0.71      0.69       319\n",
      "     comp.graphics       0.92      0.90      0.91       389\n",
      "         sci.space       0.82      0.87      0.85       394\n",
      "talk.religion.misc       0.66      0.56      0.61       251\n",
      "\n",
      "       avg / total       0.78      0.78      0.78      1353\n",
      "\n"
     ]
    }
   ],
   "source": [
    "from sklearn.metrics import classification_report\n",
    "report1 = classification_report(ytest, y_pred, target_names=categories)\n",
    "print(report1)"
   ]
  },
  {
   "cell_type": "code",
   "execution_count": 44,
   "metadata": {},
   "outputs": [
    {
     "name": "stdout",
     "output_type": "stream",
     "text": [
      "alt.atheism: [like believe say atheism does just think don people god]\n",
      "comp.graphics: [software images files data use file jpeg edu graphics image]\n",
      "sci.space: [just shuttle time orbit data like earth launch nasa space]\n",
      "talk.religion.misc: [know say christian think just bible don jesus people god]\n"
     ]
    }
   ],
   "source": [
    "# Посмотрим на ТОП 10 по важности слова в каждой категории\n",
    "\n",
    "def show_top10(classifier, vectorizer, categories):\n",
    "    feature_names = np.asarray(vectorizer.get_feature_names())\n",
    "    for i, category in enumerate(categories):\n",
    "        top10 = np.argsort(classifier.coef_[i])[-10:]\n",
    "        print(\"%s: [%s]\" % (category, \" \".join(feature_names[top10])))\n",
    "\n",
    "show_top10(clf, vec, categories)"
   ]
  },
  {
   "cell_type": "markdown",
   "metadata": {},
   "source": [
    "### 2.3 [Tf-IDF](https://ru.wikipedia.org/wiki/TF-IDF)\n",
    "\n",
    "Мешок слов не учитывает \"веса\" слов, он просто смотрит их вхождение в документ. Вероятно, было бы полезно взвесить каким-то обраом каждое слово в документе. Действительно, если слово встречается во всех документах, то, наверное, его вес небольшой. А если редкое слово встречается в некоторых документах, то скорее всего оно какое-то узко тематическое.\n",
    "\n",
    "Один из способов взвесить слова - это использовать меру tf-idf, где:\n",
    "\n",
    "**TF - term frequency** - частота слова для каждой статьи\n",
    "\n",
    "$$\\LARGE \\mathrm{tf}(t,d) = \\frac{n_t}{\\sum_k n_k}$$\n",
    "\n",
    "**IDF - inverse document frequency*** — обратная частота документа - уменьшает вес часто встречаемых слов\n",
    "\n",
    "$$\\LARGE \\mathrm{idf}(t, D) =  \\log \\frac{|D|}{|\\{\\,d_i \\in D \\mid t \\in d_{i}\\, \\}|}$$\n",
    "\n",
    "$D$ - число документов в корпусе\n",
    "\n",
    "$|\\{\\,d_i \\in D \\mid t \\in d_{i}\\, \\}|$ - число документов из коллекции ${\\displaystyle D}$ , в которых встречается ${\\displaystyle t}$  (когда ${\\displaystyle n_{t}\\neq 0}$ ).\n",
    "\n",
    "**TF-IDF**\n",
    "\n",
    "$$\\LARGE \\operatorname{tf-idf}(t,d,D) = \\operatorname{tf}(t,d) \\times \\operatorname{idf}(t, D)$$\n",
    "\n",
    "\n",
    "Для него есть класс [sklearn.feature_extraction.text.TfidfVectorizer](http://scikit-learn.org/stable/modules/generated/sklearn.feature_extraction.text.TfidfVectorizer.html)"
   ]
  },
  {
   "cell_type": "markdown",
   "metadata": {},
   "source": [
    "- Проведите кроссвалидацию на 5 фолдах для метрики `accuracy`.\n",
    "- обучите на тренировочных данных, \n",
    "- нарисуйте красивую confusion матрицу, (с именами классов, а не индексами по осям)\n",
    "- выведите отчет классификации для тестовой выборки (с именами классов, а не индексами)"
   ]
  },
  {
   "cell_type": "code",
   "execution_count": 49,
   "metadata": {},
   "outputs": [
    {
     "data": {
      "text/plain": [
       "26576"
      ]
     },
     "execution_count": 49,
     "metadata": {},
     "output_type": "execute_result"
    }
   ],
   "source": [
    "from sklearn.feature_extraction.text import TfidfVectorizer\n",
    "vec = TfidfVectorizer(stop_words='english')\n",
    "train2 = vec.fit_transform(train.data)\n",
    "test2 = vec.transform(test.data)\n",
    "len(vec.vocabulary_)\n"
   ]
  },
  {
   "cell_type": "code",
   "execution_count": 50,
   "metadata": {},
   "outputs": [
    {
     "name": "stdout",
     "output_type": "stream",
     "text": [
      "0.850546545553\n"
     ]
    },
    {
     "data": {
      "text/plain": [
       "0.79083518107908357"
      ]
     },
     "execution_count": 50,
     "metadata": {},
     "output_type": "execute_result"
    }
   ],
   "source": [
    "clf = MultinomialNB(alpha=.1)\n",
    "mean_score_clf = np.mean(cross_val_score(clf, train2, y_train, cv=5, n_jobs=3, scoring='accuracy'))\n",
    "print(mean_score_clf)\n",
    "clf = MultinomialNB(alpha=.1)\n",
    "clf.fit(train2, train.target)\n",
    "y_pred = clf.predict(test2)\n",
    "cnf_matrix2 = confusion_matrix(ytest, y_pred)\n",
    "accuracy_score(ytest, y_pred)"
   ]
  },
  {
   "cell_type": "code",
   "execution_count": 47,
   "metadata": {},
   "outputs": [
    {
     "data": {
      "image/png": "[encoded data removed]",
      "text/plain": [
       "<matplotlib.figure.Figure at 0x1eb67f40358>"
      ]
     },
     "metadata": {},
     "output_type": "display_data"
    },
    {
     "data": {
      "image/png": "[encoded data removed]",
      "text/plain": [
       "<matplotlib.figure.Figure at 0x1eb6d5a2f98>"
      ]
     },
     "metadata": {},
     "output_type": "display_data"
    }
   ],
   "source": [
    "\n",
    "plt.title(\"Classifier with CountVectorizer\")\n",
    "sns.heatmap(data=cnf_matrix1, xticklabels=categories, yticklabels=categories, square=True, annot=True, fmt='.3g')\n",
    "plt.show()\n",
    "\n",
    "plt.title(\"Classifier with TfIdfVectorizer\")\n",
    "sns.heatmap(data=cnf_matrix2, xticklabels=categories, yticklabels=categories, square=True, annot=True, fmt='.3g')\n",
    "plt.show()"
   ]
  },
  {
   "cell_type": "code",
   "execution_count": 52,
   "metadata": {},
   "outputs": [
    {
     "name": "stdout",
     "output_type": "stream",
     "text": [
      "alt.atheism: [islam does religion atheism say just think don people god]\n",
      "comp.graphics: [windows does looking program know file image files thanks graphics]\n",
      "sci.space: [earth think shuttle orbit moon just launch like nasa space]\n",
      "talk.religion.misc: [objective think just bible don christians christian people jesus god]\n"
     ]
    }
   ],
   "source": [
    "show_top10(clf, vec, categories)"
   ]
  },
  {
   "cell_type": "markdown",
   "metadata": {},
   "source": [
    "### 2.4 В чём проблема?\n",
    "\n",
    "Как вы заметили, качество немного улучшилось. Как вы думаете почему у нас до сих пор есть ошибки? В чём проблема? Опирайтесь на вывод топа 10 важных слов, confusion matrix и репорт классификации.\n",
    "\n",
    "**Задание**: Напишите развернутое рассуждение."
   ]
  },
  {
   "cell_type": "markdown",
   "metadata": {},
   "source": [
    "Ответ: Ошибки могут возникать в первую очередь от того, что данные слова рассматривались отдельно друг от друга. Так же в топ 10 находятся такие служебные слова, как does, know, say, just, think и т.д."
   ]
  },
  {
   "cell_type": "markdown",
   "metadata": {},
   "source": [
    "![](https://i.imgur.com/3D5pgrk.png)"
   ]
  },
  {
   "cell_type": "markdown",
   "metadata": {},
   "source": [
    "Можно еще немного улучшить качество предсказания, если использовть n-граммы, то есть не только одиночные слова, но и пары, тройки. Для этого у векторайзера есть параметр `ngram_range`, но будьте осторожны, сгенерируется очень много признаков. Их количество можно ограничить  `max_features`. Ещё можно копать в сторону правильного процессинга текстов: лемматизация и стемминг, чтобы убирать окончания, но это обчно не сильно помогает в английском языке.\n",
    "\n",
    "Кроме того можно было бы пойти совсем в другую сторону и использовать word-2-vec технологии, тогда бы у нас слова начал \"обретать\" смысл. Но это вовсем другая история."
   ]
  }
 ],
 "metadata": {
  "kernelspec": {
   "display_name": "Python 3",
   "language": "python",
   "name": "python3"
  },
  "language_info": {
   "codemirror_mode": {
    "name": "ipython",
    "version": 3
   },
   "file_extension": ".py",
   "mimetype": "text/x-python",
   "name": "python",
   "nbconvert_exporter": "python",
   "pygments_lexer": "ipython3",
   "version": "3.6.2"
  }
 },
 "nbformat": 4,
 "nbformat_minor": 2
}
